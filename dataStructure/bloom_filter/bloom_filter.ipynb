{
 "cells": [
  {
   "cell_type": "markdown",
   "metadata": {},
   "source": [
    "## Bloom Filter Implementation\n",
    "- Reference\n",
    "   - https://en.wikipedia.org/wiki/Bloom_filter\n",
    "   - https://brilliant.org/wiki/bloom-filter/#:~:text=A%20bloom%20filter%20is%20a,is%20added%20to%20the%20set.\n",
    "   - https://www.geeksforgeeks.org/bloom-filters-introduction-and-python-implementation/"
   ]
  },
  {
   "cell_type": "code",
   "execution_count": null,
   "metadata": {},
   "outputs": [],
   "source": [
    "from typing import List, Tuple\n",
    "from itertools import product\n",
    "\n",
    "import matplotlib.pyplot as plt\n",
    "import mmh3\n",
    "import pandas as pd\n",
    "import seaborn as sns\n",
    "from bitarray import bitarray\n"
   ]
  },
  {
   "cell_type": "code",
   "execution_count": null,
   "metadata": {},
   "outputs": [],
   "source": [
    "import hashlib\n",
    "\n",
    "class BloomFilter:\n",
    "    def __init__(self, m, k):\n",
    "        self.m = m\n",
    "        self.k = k\n",
    "        self.data = [0]*m\n",
    "        self.n = 0\n",
    "    def insert(self, element):\n",
    "        if self.k == 1:\n",
    "            hash1 = h1(element) % self.m\n",
    "            self.data[hash1] = 1\n",
    "        elif self.k == 2:\n",
    "            hash1 = h1(element) % self.m\n",
    "            hash2 = h2(element) % self.m\n",
    "            self.data[hash1] = 1\n",
    "            self.data[hash2] = 1\n",
    "        self.n += 1\n",
    "    def search(self, element):\n",
    "        if self.k == 1:\n",
    "            hash1 = h1(element) % self.m\n",
    "            if self.data[hash1] == 0:\n",
    "                return \"Not in Bloom Filter\"\n",
    "        elif self.k == 2:\n",
    "            hash1 = h1(element) % self.m\n",
    "            hash2 = h2(element) % self.m\n",
    "            if self.data[hash1] == 0 or self.data[hash2] == 0:\n",
    "                return \"Not in Bloom Filter\"\n",
    "        prob = (1.0 - ((1.0 - 1.0/self.m)**(self.k*self.n))) ** self.k\n",
    "        return \"Might be in Bloom Filter with false positive probability \"+str(prob)\n",
    "\n",
    "def h1(w):\n",
    "    h = hashlib.md5(w)\n",
    "    return hash(h.digest().encode('base64')[:6])%10\n",
    "\n",
    "def h2(w):\n",
    "    h = hashlib.sha256(w)\n",
    "    return hash(h.digest().encode('base64')[:6])%10"
   ]
  },
  {
   "cell_type": "code",
   "execution_count": null,
   "metadata": {},
   "outputs": [],
   "source": [
    "class BloomFilter:\n",
    "\n",
    "    def __init__(self, num_bits: int, num_hash: int) -> None:\n",
    "        self.num_bits = num_bits\n",
    "        self.num_hash = num_hash\n",
    "\n",
    "        self.bit_array = bitarray(self.num_bits)\n",
    "        self.bit_array.setall(False)\n",
    "    \n",
    "        self.counter = 0\n",
    "        self.seeds = [seed for seed in range(self.num_hash)]\n",
    "\n",
    "    def insert(self, element: str) -> None:\n",
    "        for seed in self.seeds:\n",
    "            hash_value = mmh3.hash(element, seed) % self.num_bits\n",
    "            self.bit_array[hash_value] = True\n",
    "\n",
    "        self.counter += 1\n",
    "\n",
    "    def does_exist(self, element: str) -> bool:\n",
    "        for seed in self.seeds:\n",
    "            hash_value = mmh3.hash(element, seed) % self.num_bits\n",
    "            if not self.bit_array[hash_value]:\n",
    "                return False\n",
    "        return True\n",
    "        \n",
    "    def predict_false_positive_rate(self) -> float:\n",
    "        return (1 - ((1 - 1 / self.num_bits) ** (self.num_hash * self.counter))) ** self.num_hash\n"
   ]
  },
  {
   "cell_type": "code",
   "execution_count": null,
   "metadata": {},
   "outputs": [],
   "source": [
    "def examine_result(\n",
    "    num_bits: int,\n",
    "    num_hash: int,\n",
    "    positive_elements: List[str],\n",
    "    test_elements: List[str],\n",
    ") -> Tuple[float, float]:\n",
    "    bloom_filter = BloomFilter(num_bits=num_bits, num_hash=num_hash)\n",
    "    for element in positive_elements:\n",
    "        bloom_filter.insert(element)\n",
    "\n",
    "    predicted_false_positive_rate = bloom_filter.predict_false_positive_rate()\n",
    "    actual_false_positive_rate = sum(bloom_filter.does_exist(element) for element in test_elements) / len(test_elements)\n",
    "    return predicted_false_positive_rate, actual_false_positive_rate\n"
   ]
  },
  {
   "cell_type": "markdown",
   "metadata": {},
   "source": [
    "### Example"
   ]
  },
  {
   "cell_type": "code",
   "execution_count": null,
   "metadata": {},
   "outputs": [],
   "source": [
    "present_words = \"Yesterday All my troubles seemed so far away Now it looks as though they're here to stay Oh, I believe in yesterday\".split()\n",
    "absent_words = \"When find myself times of trouble\".split()"
   ]
  },
  {
   "cell_type": "markdown",
   "metadata": {},
   "source": [
    "#### Case I"
   ]
  },
  {
   "cell_type": "code",
   "execution_count": null,
   "metadata": {},
   "outputs": [],
   "source": [
    "predicted_false_positive_rate, actual_false_positive_rate = examine_result(128, 10, present_words, absent_words)\n",
    "print(f\"m = {m}, k = {k}\")\n",
    "print(f\"The estimate false positive probability is {predicted_false_positive_rate}\")\n",
    "print(f\"The actual false positive probability is is {actual_false_positive_rate}\")"
   ]
  },
  {
   "cell_type": "markdown",
   "metadata": {},
   "source": [
    "#### Case II - Comparison"
   ]
  },
  {
   "cell_type": "code",
   "execution_count": null,
   "metadata": {},
   "outputs": [],
   "source": [
    "m_candidates = [2, 4, 8, 16, 32, 64, 128]\n",
    "k_candidates = [2, 4, 8, 16, 32, 64, 128]\n",
    "results = [\n",
    "    (m, k, *examine_result(m, k, present_words, absent_words))\n",
    "    for m, k in product(m_candidates, k_candidates)\n",
    "]\n",
    "result_df = pd.DataFrame(results, columns=[\"m\", \"k\", \"predicted_fpr\", \"actual_fpr\"])\n"
   ]
  },
  {
   "cell_type": "code",
   "execution_count": null,
   "metadata": {},
   "outputs": [],
   "source": [
    "fig, (ax1, ax2) = plt.subplots(ncols=2)\n",
    "fig.subplots_adjust(wspace=0.1)\n",
    "\n",
    "sns.heatmap(result_df.pivot(\"m\", \"k\", \"predicted_fpr\"), ax=ax1, cbar=False)\n",
    "ax1.set_title('Predicted False Positive Rate')\n",
    "sns.heatmap(result_df.pivot(\"m\", \"k\", \"actual_fpr\"), ax=ax2, cbar=False)\n",
    "ax2.set_title('Actual False Positive Rate')\n",
    "\n",
    "ax2.yaxis.tick_right()\n",
    "fig.subplots_adjust(wspace=0.1)\n",
    "plt.show()"
   ]
  }
 ],
 "metadata": {
  "kernelspec": {
   "display_name": "Python 3.9.1 64-bit",
   "language": "python",
   "name": "python3"
  },
  "language_info": {
   "codemirror_mode": {
    "name": "ipython",
    "version": 3
   },
   "file_extension": ".py",
   "mimetype": "text/x-python",
   "name": "python",
   "nbconvert_exporter": "python",
   "pygments_lexer": "ipython3",
   "version": "3.9.1"
  },
  "orig_nbformat": 4,
  "vscode": {
   "interpreter": {
    "hash": "aee8b7b246df8f9039afb4144a1f6fd8d2ca17a180786b69acc140d282b71a49"
   }
  }
 },
 "nbformat": 4,
 "nbformat_minor": 2
}
