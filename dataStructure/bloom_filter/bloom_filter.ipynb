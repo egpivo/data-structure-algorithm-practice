{
 "cells": [
  {
   "cell_type": "markdown",
   "metadata": {},
   "source": [
    "## Bloom filter implementation\n",
    "- Reference\n",
    "   - https://en.wikipedia.org/wiki/Bloom_filter\n",
    "   - https://brilliant.org/wiki/bloom-filter/#:~:text=A%20bloom%20filter%20is%20a,is%20added%20to%20the%20set.\n",
    "   - https://www.geeksforgeeks.org/bloom-filters-introduction-and-python-implementation/"
   ]
  },
  {
   "cell_type": "code",
   "execution_count": 71,
   "metadata": {},
   "outputs": [],
   "source": [
    "from typing import List\n",
    "from itertools import product\n",
    "\n",
    "import mmh3\n",
    "from bitarray import bitarray\n"
   ]
  },
  {
   "cell_type": "code",
   "execution_count": 75,
   "metadata": {},
   "outputs": [],
   "source": [
    "class BloomFilter:\n",
    "\n",
    "    def __init__(self, num_bits: int, num_hash: int) -> None:\n",
    "        self.num_bits = num_bits\n",
    "        self.num_hash = num_hash\n",
    "\n",
    "        self.bit_array = bitarray(self.num_bits)\n",
    "        self.bit_array.setall(False)\n",
    "    \n",
    "        self.counter = 0\n",
    "        self.seeds = [seed for seed in range(self.num_hash)]\n",
    "\n",
    "    def insert(self, element: str) -> None:\n",
    "        for seed in self.seeds:\n",
    "            hash_value = mmh3.hash(element, seed) % self.num_bits\n",
    "            self.bit_array[hash_value] = True\n",
    "\n",
    "        self.counter += 1\n",
    "\n",
    "    def does_exist(self, element: str) -> bool:\n",
    "        for seed in self.seeds:\n",
    "            hash_value = mmh3.hash(element, seed) % self.num_bits\n",
    "            if self.bit_array[hash_value] == False:\n",
    "                return False\n",
    "        return True\n",
    "        \n",
    "    def predict_false_positive_rate(self) -> float:\n",
    "        return (1 - ((1 - 1 / self.num_hash) ** (self.num_hash * self.counter))) ** self.num_hash\n"
   ]
  },
  {
   "cell_type": "code",
   "execution_count": 76,
   "metadata": {},
   "outputs": [],
   "source": [
    "def examine_result(\n",
    "    num_bits: int,\n",
    "    num_hash: int,\n",
    "    positive_elements: List[str],\n",
    "    test_elements: List[str],\n",
    ") -> tuple:\n",
    "    bloom_filter = BloomFilter(num_bits=num_bits, num_hash=num_hash)\n",
    "    for element in positive_elements:\n",
    "        bloom_filter.insert(element)\n",
    "\n",
    "    predicted_false_positive_rate = bloom_filter.predict_false_positive_rate()\n",
    "    actual_false_positive_rate = sum(bloom_filter.does_exist(element) for element in test_elements) / len(test_elements)\n",
    "    return predicted_false_positive_rate, actual_false_positive_rate\n"
   ]
  },
  {
   "cell_type": "markdown",
   "metadata": {},
   "source": [
    "### Example"
   ]
  },
  {
   "cell_type": "code",
   "execution_count": 61,
   "metadata": {},
   "outputs": [],
   "source": [
    "present_words = \"Yesterday All my troubles seemed so far away Now it looks as though they're here to stay Oh, I believe in yesterday\".split()\n",
    "absent_words = \"All my troubles seemed so far away\".split()"
   ]
  },
  {
   "cell_type": "code",
   "execution_count": null,
   "metadata": {},
   "outputs": [],
   "source": [
    "m_candidates = [1, 10, 100, 1000]\n",
    "k_candidates = [1, 10, 100, 1000]\n",
    "\n",
    "for m, k in product(m_candidates, k_candidates):\n",
    "    predicted_false_positive_rate, actual_false_positive_rate = examine_result(m, k, present_words, present_words + absent_words)\n",
    "    print(f\"m = {m}, k = {k}\")\n",
    "    print(f\"The estimate false positive probability is {predicted_false_positive_rate}\")\n",
    "    print(f\"The actual false positive probability is is {actual_false_positive_rate}\")\n"
   ]
  }
 ],
 "metadata": {
  "kernelspec": {
   "display_name": "Python 3.9.1 64-bit",
   "language": "python",
   "name": "python3"
  },
  "language_info": {
   "codemirror_mode": {
    "name": "ipython",
    "version": 3
   },
   "file_extension": ".py",
   "mimetype": "text/x-python",
   "name": "python",
   "nbconvert_exporter": "python",
   "pygments_lexer": "ipython3",
   "version": "3.9.1"
  },
  "orig_nbformat": 4,
  "vscode": {
   "interpreter": {
    "hash": "aee8b7b246df8f9039afb4144a1f6fd8d2ca17a180786b69acc140d282b71a49"
   }
  }
 },
 "nbformat": 4,
 "nbformat_minor": 2
}
