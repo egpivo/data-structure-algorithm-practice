{
 "cells": [
  {
   "cell_type": "markdown",
   "source": [
    "## `UnionFind` - Quick Find for the disjoint set\n",
    "- Time Complexity\n",
    "  1. Constructor: $O(N)$\n",
    "  2. `find`: $O(1)$\n",
    "  3. `union`: $O(N)$\n",
    "  4. `is_connected`: $O(1)$\n",
    "\n",
    "- Space Complexity: $O(N)$"
   ],
   "metadata": {
    "collapsed": false
   }
  },
  {
   "cell_type": "code",
   "execution_count": 13,
   "outputs": [],
   "source": [
    "class UnionFind:\n",
    "    def __init__(self, size: int) -> None:\n",
    "        self.size = size\n",
    "        self.root = [i for i in range(size)]\n",
    "\n",
    "    def find(self, x: int) -> int:\n",
    "        return self.root[x]\n",
    "\n",
    "    def union(self, x: int, y: int) -> None:\n",
    "        root_x = self.find(x)\n",
    "        root_y = self.find(y)\n",
    "\n",
    "        if root_x != root_y:\n",
    "            for i in range(self.size):\n",
    "                if self.root[i] == root_y:\n",
    "                    self.root[i] = root_x\n",
    "\n",
    "    def is_connected(self, x: int, y: int) -> bool:\n",
    "        return self.find(x) == self.find(y)\n"
   ],
   "metadata": {
    "collapsed": false,
    "pycharm": {
     "name": "#%%\n"
    }
   }
  },
  {
   "cell_type": "markdown",
   "source": [
    "### Test Case I\n",
    "- group1: `1-3-5-7`\n",
    "- group2: `2-4-8`\n",
    "- group3: `6-10`"
   ],
   "metadata": {
    "collapsed": false
   }
  },
  {
   "cell_type": "code",
   "execution_count": 14,
   "outputs": [
    {
     "name": "stdout",
     "output_type": "stream",
     "text": [
      "True\n",
      "True\n",
      "False\n",
      "False\n",
      "root is : [0, 1, 2, 1, 2, 1, 6, 1, 2, 9, 6, 11]\n"
     ]
    }
   ],
   "source": [
    "size = 12\n",
    "quick_finder = UnionFind(size)\n",
    "\n",
    "# 1-3-5-7, 2-4-8, 6-10\n",
    "quick_finder.union(1, 3)\n",
    "quick_finder.union(3, 5)\n",
    "quick_finder.union(5, 7)\n",
    "quick_finder.union(2, 4)\n",
    "quick_finder.union(2, 8)\n",
    "quick_finder.union(6, 10)\n",
    "# true\n",
    "print(quick_finder.is_connected(1, 5))\n",
    "print(quick_finder.is_connected(5, 7))\n",
    "# false\n",
    "print(quick_finder.is_connected(4, 9))\n",
    "print(quick_finder.is_connected(3, 10))\n",
    "\n",
    "# root\n",
    "print(f\"root is : {quick_finder.root}\")"
   ],
   "metadata": {
    "collapsed": false,
    "pycharm": {
     "name": "#%%\n"
    }
   }
  },
  {
   "cell_type": "markdown",
   "source": [
    "### Test Case II\n",
    "- group1: `1-3-5-6-7-10`\n",
    "- group2: `2-4-8-9`"
   ],
   "metadata": {
    "collapsed": false
   }
  },
  {
   "cell_type": "code",
   "execution_count": 15,
   "outputs": [
    {
     "name": "stdout",
     "output_type": "stream",
     "text": [
      "True\n",
      "True\n",
      "root is : [0, 1, 9, 1, 9, 1, 1, 1, 9, 9, 1, 11]\n"
     ]
    }
   ],
   "source": [
    "quick_finder.union(9, 4)\n",
    "print(quick_finder.is_connected(4, 9))  # true\n",
    "quick_finder.union(3, 10)\n",
    "print(quick_finder.is_connected(3, 10))  # true\n",
    "# root\n",
    "print(f\"root is : {quick_finder.root}\")\n"
   ],
   "metadata": {
    "collapsed": false,
    "pycharm": {
     "name": "#%%\n"
    }
   }
  }
 ],
 "metadata": {
  "kernelspec": {
   "display_name": "Python 3",
   "language": "python",
   "name": "python3"
  },
  "language_info": {
   "codemirror_mode": {
    "name": "ipython",
    "version": 2
   },
   "file_extension": ".py",
   "mimetype": "text/x-python",
   "name": "python",
   "nbconvert_exporter": "python",
   "pygments_lexer": "ipython2",
   "version": "2.7.6"
  }
 },
 "nbformat": 4,
 "nbformat_minor": 0
}
