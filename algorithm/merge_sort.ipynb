{
 "cells": [
  {
   "cell_type": "markdown",
   "id": "312a4ecb-b424-4e80-a8be-1abc2cbff589",
   "metadata": {},
   "source": [
    "## Merge Sort\n",
    "\n",
    "### Recall\n",
    "| Algorithm |  Worst-case running time | Best-case running time |Average-case running time |\n",
    "|---|---|---|---|\n",
    "|[Selection Sort](https://en.wikipedia.org/wiki/Selection_sort) |$\\Theta(n^2)$|$\\Theta(n^2)$|$\\Theta(n^2)$|\n",
    "|[Insertion Srot](https://en.wikipedia.org/wiki/Insertion_sort)|$\\Theta(n^2)$|$\\Theta(n)$|$\\Theta(n^2)$|\n",
    "|[Merge Sort](https://en.wikipedia.org/wiki/Merge_sort)|$\\Theta(n\\log_2 n)$|$\\Theta(n\\log_2 n)$|$\\Theta(n\\log_2 n)$|\n",
    "|Quick Sort|$\\Theta(n^2)$|$\\Theta(n\\log_2 n)$|$\\Theta(n\\log_2 n)$|\n",
    "\n",
    "### Divide and Conquer Alogorithms\n",
    "- The praradigm:\n",
    "    1. (Divide) break a problem into subproblems that are similar to the original proble;\n",
    "    2. (Conquer) recursively sovle the subproblems\n",
    "        - i.e., there must be a base case for subproblems\n",
    "    3. (Combine) combine the solutions to the subproblems to solve the original problem.\n",
    "- A divide-and-conquer algorithm creates at least ***two*** subproblems, so it makes multiple recursive calls.\n",
    "\n",
    "### Merge Sort Algorithm\n",
    "1. Divide by finding a midpoint of an array\n",
    "2. Conqure by recursively sorting the subarrays in each of the two subproblems created by the `divide` step. ($\\Theta(\\log_2 n)$)\n",
    "    - The base case is a subarray containing fewer than two elements.\n",
    "3. Combine by merging the two sorted subarray back into the single sorted subarray. ($\\Theta(n)$)\n",
    "    - Merging\n",
    "        1. Copy each element in the array into left half and right half subarrays\n",
    "        2. Compare the first two untaken elements and copy the smaller one back into the array until all elements being taken in both subarrays\n",
    "        3. Once one of subarrays has had all its elements copied back into the array, copy each remaining untaken element from the other one back into array"
   ]
  },
  {
   "cell_type": "markdown",
   "id": "6eb210c7-e8a6-4554-8233-0cd6c6133ceb",
   "metadata": {},
   "source": [
    "## Implementaion"
   ]
  },
  {
   "cell_type": "code",
   "execution_count": 35,
   "id": "0ab369be-05be-4921-a698-9af0ce3e026a",
   "metadata": {},
   "outputs": [],
   "source": [
    "import copy\n",
    "from typing import Any, List\n",
    "\n",
    "\n",
    "class MergeSort:\n",
    "    def __init__(self, array: List[Any]) -> None:\n",
    "        self.array = copy.deepcopy(array)\n",
    "\n",
    "    def sort(self) -> List[Any]:\n",
    "        self._merge_sort(0, len(self.array) - 1)\n",
    "        return self.array\n",
    "\n",
    "    def _merge_sort(self, left: int, right: int) -> None:\n",
    "        # Base case\n",
    "        if left >= right:\n",
    "            return None\n",
    "\n",
    "        # Recurse case\n",
    "        mid = left + (right - left) // 2\n",
    "        self._merge_sort(left, mid)\n",
    "        self._merge_sort(mid + 1, right)\n",
    "\n",
    "        # Combine\n",
    "        self._merge(left, mid, right)\n",
    "\n",
    "    def _merge(self, left: int, mid: int, right: int) -> None:\n",
    "        \"\"\"Note: linear time\"\"\"\n",
    "        left_end = mid - left + 1\n",
    "        right_end = right - mid\n",
    "\n",
    "        left_array = self.array[left : (left + left_end)]\n",
    "        right_array = self.array[(mid + 1) : (mid + 1 + right_end)]\n",
    "\n",
    "        i, j, k = 0, 0, left\n",
    "        while i < left_end and j < right_end:\n",
    "            if left_array[i] <= right_array[j]:\n",
    "                self.array[k] = left_array[i]\n",
    "                i += 1\n",
    "            else:\n",
    "                self.array[k] = right_array[j]\n",
    "                j += 1\n",
    "            k += 1\n",
    "\n",
    "        while i < left_end:\n",
    "            self.array[k] = left_array[i]\n",
    "            i += 1\n",
    "            k += 1\n",
    "\n",
    "        while j < right_end:\n",
    "            self.array[k] = right_array[j]\n",
    "            j += 1\n",
    "            k += 1"
   ]
  },
  {
   "cell_type": "code",
   "execution_count": 34,
   "id": "e7bc6992-7a81-4dc1-b36d-072354e0c7e7",
   "metadata": {},
   "outputs": [
    {
     "name": "stdout",
     "output_type": "stream",
     "text": [
      "0 0 1\n",
      "[2]\n",
      "[4]\n",
      "0 1 2\n",
      "[2, 4]\n",
      "[3]\n",
      "3 3 4\n",
      "[5]\n",
      "[7]\n",
      "0 2 4\n",
      "[2, 3, 4]\n",
      "[5, 7]\n",
      "Sorted array: [2, 3, 4, 5, 7]\n",
      "Orignal array: [2, 4, 3, 5, 7]\n"
     ]
    }
   ],
   "source": [
    "array = [2, 4, 3, 5, 7]\n",
    "print(f\"Sorted array: {MergeSort(array).sort()}\")\n",
    "print(f\"Orignal array: {array}\")\n"
   ]
  },
  {
   "cell_type": "markdown",
   "id": "53e11fba-e9e6-4042-bbd1-32cc7298ad02",
   "metadata": {},
   "source": [
    "## Example: power of a number"
   ]
  }
 ],
 "metadata": {
  "kernelspec": {
   "display_name": "Python 3 (ipykernel)",
   "language": "python",
   "name": "python3"
  },
  "language_info": {
   "codemirror_mode": {
    "name": "ipython",
    "version": 3
   },
   "file_extension": ".py",
   "mimetype": "text/x-python",
   "name": "python",
   "nbconvert_exporter": "python",
   "pygments_lexer": "ipython3",
   "version": "3.10.8"
  }
 },
 "nbformat": 4,
 "nbformat_minor": 5
}
