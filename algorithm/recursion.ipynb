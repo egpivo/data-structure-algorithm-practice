{
 "cells": [
  {
   "cell_type": "markdown",
   "id": "312a4ecb-b424-4e80-a8be-1abc2cbff589",
   "metadata": {},
   "source": [
    "## Recursion\n",
    "\n",
    "- Solve a problem by sovling a smaller instance of the sample problem, unless the problemm is small enough to solve it directly.\n",
    "- Applications\n",
    "    - Check if a word is palindrome\n",
    "    - compute powers of a number\n",
    "    - draw a type of fractal\n",
    "    - Solve towers of Hanoi problem\n",
    "    \n",
    "- Idea\n",
    "  1. Each recursive call should be on a smaller instance of the same problem, i.e., a smaller subproblem\n",
    "  2. The recursive calls must eventually reach a ***base case***, which is solved without further recursion"
   ]
  },
  {
   "cell_type": "markdown",
   "id": "d5cc7379-c068-4913-aec0-543014380953",
   "metadata": {},
   "source": [
    "## Example: factrial"
   ]
  },
  {
   "cell_type": "markdown",
   "id": "fc1b0c24-aac5-40f6-af7c-e8401796eaab",
   "metadata": {},
   "source": [
    "def factorial(n: int) -> int:\n",
    "    # base case\n",
    "    if n == 0:\n",
    "        return 1\n",
    "    # recursive case\n",
    "    return n * factorial(n - 1)\n",
    "\n",
    "print(f\"factorial of 3: 3! = {factorial(3)}\")\n",
    "print(f\"factorial of 5: 5! = {factorial(5)}\")\n",
    "print(f\"factorial of 10: 10! = {factorial(10)}\")"
   ]
  },
  {
   "cell_type": "markdown",
   "id": "6eb210c7-e8a6-4554-8233-0cd6c6133ceb",
   "metadata": {},
   "source": [
    "## Example: is a string a palindrome"
   ]
  },
  {
   "cell_type": "code",
   "execution_count": 10,
   "id": "0ab369be-05be-4921-a698-9af0ce3e026a",
   "metadata": {},
   "outputs": [
    {
     "name": "stdout",
     "output_type": "stream",
     "text": [
      "`aia` is a palindrom: False\n",
      "`g` is a palindrom: True\n",
      "`test` is a palindrom: False\n"
     ]
    }
   ],
   "source": [
    "def is_palindrom(string: str) -> bool:\n",
    "    # base case 1\n",
    "    if len(string) in (0, 1):\n",
    "        return True\n",
    "    # base case 2\n",
    "    if string[0] != string[1]:\n",
    "        return False\n",
    "    # recursive case\n",
    "    return is_palindrom(string[1:-1])\n",
    "\n",
    "\n",
    "print(f\"`aia` is a palindrom: {is_palindrom('aia')}\")\n",
    "print(f\"`g` is a palindrom: {is_palindrom('g')}\")\n",
    "print(f\"`test` is a palindrom: {is_palindrom('test')}\")"
   ]
  },
  {
   "cell_type": "markdown",
   "id": "53e11fba-e9e6-4042-bbd1-32cc7298ad02",
   "metadata": {},
   "source": [
    "## Example: power of a number"
   ]
  },
  {
   "cell_type": "code",
   "execution_count": 15,
   "id": "ed2df749-1832-4372-91e5-a125a28a12ba",
   "metadata": {},
   "outputs": [
    {
     "name": "stdout",
     "output_type": "stream",
     "text": [
      "100^0 = 1\n",
      "4^-2 = 0.0625\n",
      "4^3 = 64\n",
      "3^2 = 9\n"
     ]
    }
   ],
   "source": [
    "def power(x, n):\n",
    "    # base case\n",
    "    if n == 0:\n",
    "        return 1\n",
    "\n",
    "    # recursive case:\n",
    "    if n < 0:\n",
    "        return 1 / power(x, -n)\n",
    "    else:\n",
    "        if n % 2 == 1:\n",
    "            return x * power(x, n - 1)\n",
    "        else:\n",
    "            return power(x, n // 2) * power(x, n // 2)\n",
    "\n",
    "\n",
    "print(f\"100^0 = {power(100, 0)}\")\n",
    "print(f\"4^-2 = {power(4, -2)}\")\n",
    "print(f\"4^3 = {power(4, 3)}\")\n",
    "print(f\"3^2 = {power(3, 2)}\")"
   ]
  }
 ],
 "metadata": {
  "kernelspec": {
   "display_name": "Python 3 (ipykernel)",
   "language": "python",
   "name": "python3"
  },
  "language_info": {
   "codemirror_mode": {
    "name": "ipython",
    "version": 3
   },
   "file_extension": ".py",
   "mimetype": "text/x-python",
   "name": "python",
   "nbconvert_exporter": "python",
   "pygments_lexer": "ipython3",
   "version": "3.10.8"
  }
 },
 "nbformat": 4,
 "nbformat_minor": 5
}
